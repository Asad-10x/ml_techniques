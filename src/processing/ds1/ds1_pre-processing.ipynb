{
 "cells": [
  {
   "cell_type": "code",
   "execution_count": 2,
   "id": "735c0a3a",
   "metadata": {},
   "outputs": [],
   "source": [
    "# Import Librarires\n",
    "import pandas as pd\n",
    "import numpy as np\n",
    "import matplotlib.pyplot as plt\n",
    "import seaborn as sns\n",
    "import kagglehub "
   ]
  },
  {
   "cell_type": "code",
   "execution_count": 3,
   "id": "d6ff1984",
   "metadata": {},
   "outputs": [],
   "source": [
    "# # Download latest version\n",
    "# path = kagglehub.dataset_download(\"wenruliu/adult-income-dataset\")\n",
    "\n",
    "# print(\"Path to dataset files:\", path)"
   ]
  },
  {
   "cell_type": "code",
   "execution_count": 4,
   "id": "24c86412",
   "metadata": {},
   "outputs": [
    {
     "data": {
      "text/html": [
       "<div>\n",
       "<style scoped>\n",
       "    .dataframe tbody tr th:only-of-type {\n",
       "        vertical-align: middle;\n",
       "    }\n",
       "\n",
       "    .dataframe tbody tr th {\n",
       "        vertical-align: top;\n",
       "    }\n",
       "\n",
       "    .dataframe thead th {\n",
       "        text-align: right;\n",
       "    }\n",
       "</style>\n",
       "<table border=\"1\" class=\"dataframe\">\n",
       "  <thead>\n",
       "    <tr style=\"text-align: right;\">\n",
       "      <th></th>\n",
       "      <th>age</th>\n",
       "      <th>workclass</th>\n",
       "      <th>fnlwgt</th>\n",
       "      <th>education</th>\n",
       "      <th>educational-num</th>\n",
       "      <th>marital-status</th>\n",
       "      <th>occupation</th>\n",
       "      <th>relationship</th>\n",
       "      <th>race</th>\n",
       "      <th>gender</th>\n",
       "      <th>capital-gain</th>\n",
       "      <th>capital-loss</th>\n",
       "      <th>hours-per-week</th>\n",
       "      <th>native-country</th>\n",
       "      <th>income</th>\n",
       "    </tr>\n",
       "  </thead>\n",
       "  <tbody>\n",
       "    <tr>\n",
       "      <th>0</th>\n",
       "      <td>25</td>\n",
       "      <td>Private</td>\n",
       "      <td>226802</td>\n",
       "      <td>11th</td>\n",
       "      <td>7</td>\n",
       "      <td>Never-married</td>\n",
       "      <td>Machine-op-inspct</td>\n",
       "      <td>Own-child</td>\n",
       "      <td>Black</td>\n",
       "      <td>Male</td>\n",
       "      <td>0</td>\n",
       "      <td>0</td>\n",
       "      <td>40</td>\n",
       "      <td>United-States</td>\n",
       "      <td>&lt;=50K</td>\n",
       "    </tr>\n",
       "    <tr>\n",
       "      <th>1</th>\n",
       "      <td>38</td>\n",
       "      <td>Private</td>\n",
       "      <td>89814</td>\n",
       "      <td>HS-grad</td>\n",
       "      <td>9</td>\n",
       "      <td>Married-civ-spouse</td>\n",
       "      <td>Farming-fishing</td>\n",
       "      <td>Husband</td>\n",
       "      <td>White</td>\n",
       "      <td>Male</td>\n",
       "      <td>0</td>\n",
       "      <td>0</td>\n",
       "      <td>50</td>\n",
       "      <td>United-States</td>\n",
       "      <td>&lt;=50K</td>\n",
       "    </tr>\n",
       "  </tbody>\n",
       "</table>\n",
       "</div>"
      ],
      "text/plain": [
       "   age workclass  fnlwgt education  educational-num      marital-status  \\\n",
       "0   25   Private  226802      11th                7       Never-married   \n",
       "1   38   Private   89814   HS-grad                9  Married-civ-spouse   \n",
       "\n",
       "          occupation relationship   race gender  capital-gain  capital-loss  \\\n",
       "0  Machine-op-inspct    Own-child  Black   Male             0             0   \n",
       "1    Farming-fishing      Husband  White   Male             0             0   \n",
       "\n",
       "   hours-per-week native-country income  \n",
       "0              40  United-States  <=50K  \n",
       "1              50  United-States  <=50K  "
      ]
     },
     "execution_count": 4,
     "metadata": {},
     "output_type": "execute_result"
    }
   ],
   "source": [
    "# loading dataset\n",
    "path = '../../datasets/adult.csv'\n",
    "base = pd.read_csv(path)\n",
    "base.head(2)"
   ]
  },
  {
   "cell_type": "code",
   "execution_count": 5,
   "id": "141ccdd6",
   "metadata": {},
   "outputs": [
    {
     "name": "stdout",
     "output_type": "stream",
     "text": [
      "<class 'pandas.core.frame.DataFrame'>\n",
      "RangeIndex: 48842 entries, 0 to 48841\n",
      "Data columns (total 15 columns):\n",
      " #   Column           Non-Null Count  Dtype \n",
      "---  ------           --------------  ----- \n",
      " 0   age              48842 non-null  int64 \n",
      " 1   workclass        48842 non-null  object\n",
      " 2   fnlwgt           48842 non-null  int64 \n",
      " 3   education        48842 non-null  object\n",
      " 4   educational-num  48842 non-null  int64 \n",
      " 5   marital-status   48842 non-null  object\n",
      " 6   occupation       48842 non-null  object\n",
      " 7   relationship     48842 non-null  object\n",
      " 8   race             48842 non-null  object\n",
      " 9   gender           48842 non-null  object\n",
      " 10  capital-gain     48842 non-null  int64 \n",
      " 11  capital-loss     48842 non-null  int64 \n",
      " 12  hours-per-week   48842 non-null  int64 \n",
      " 13  native-country   48842 non-null  object\n",
      " 14  income           48842 non-null  object\n",
      "dtypes: int64(6), object(9)\n",
      "memory usage: 5.6+ MB\n"
     ]
    },
    {
     "data": {
      "text/html": [
       "<div>\n",
       "<style scoped>\n",
       "    .dataframe tbody tr th:only-of-type {\n",
       "        vertical-align: middle;\n",
       "    }\n",
       "\n",
       "    .dataframe tbody tr th {\n",
       "        vertical-align: top;\n",
       "    }\n",
       "\n",
       "    .dataframe thead th {\n",
       "        text-align: right;\n",
       "    }\n",
       "</style>\n",
       "<table border=\"1\" class=\"dataframe\">\n",
       "  <thead>\n",
       "    <tr style=\"text-align: right;\">\n",
       "      <th></th>\n",
       "      <th>age</th>\n",
       "      <th>fnlwgt</th>\n",
       "      <th>educational-num</th>\n",
       "      <th>capital-gain</th>\n",
       "      <th>capital-loss</th>\n",
       "      <th>hours-per-week</th>\n",
       "    </tr>\n",
       "  </thead>\n",
       "  <tbody>\n",
       "    <tr>\n",
       "      <th>count</th>\n",
       "      <td>48842.000000</td>\n",
       "      <td>4.884200e+04</td>\n",
       "      <td>48842.000000</td>\n",
       "      <td>48842.000000</td>\n",
       "      <td>48842.000000</td>\n",
       "      <td>48842.000000</td>\n",
       "    </tr>\n",
       "    <tr>\n",
       "      <th>mean</th>\n",
       "      <td>38.643585</td>\n",
       "      <td>1.896641e+05</td>\n",
       "      <td>10.078089</td>\n",
       "      <td>1079.067626</td>\n",
       "      <td>87.502314</td>\n",
       "      <td>40.422382</td>\n",
       "    </tr>\n",
       "    <tr>\n",
       "      <th>std</th>\n",
       "      <td>13.710510</td>\n",
       "      <td>1.056040e+05</td>\n",
       "      <td>2.570973</td>\n",
       "      <td>7452.019058</td>\n",
       "      <td>403.004552</td>\n",
       "      <td>12.391444</td>\n",
       "    </tr>\n",
       "    <tr>\n",
       "      <th>min</th>\n",
       "      <td>17.000000</td>\n",
       "      <td>1.228500e+04</td>\n",
       "      <td>1.000000</td>\n",
       "      <td>0.000000</td>\n",
       "      <td>0.000000</td>\n",
       "      <td>1.000000</td>\n",
       "    </tr>\n",
       "    <tr>\n",
       "      <th>25%</th>\n",
       "      <td>28.000000</td>\n",
       "      <td>1.175505e+05</td>\n",
       "      <td>9.000000</td>\n",
       "      <td>0.000000</td>\n",
       "      <td>0.000000</td>\n",
       "      <td>40.000000</td>\n",
       "    </tr>\n",
       "    <tr>\n",
       "      <th>50%</th>\n",
       "      <td>37.000000</td>\n",
       "      <td>1.781445e+05</td>\n",
       "      <td>10.000000</td>\n",
       "      <td>0.000000</td>\n",
       "      <td>0.000000</td>\n",
       "      <td>40.000000</td>\n",
       "    </tr>\n",
       "    <tr>\n",
       "      <th>75%</th>\n",
       "      <td>48.000000</td>\n",
       "      <td>2.376420e+05</td>\n",
       "      <td>12.000000</td>\n",
       "      <td>0.000000</td>\n",
       "      <td>0.000000</td>\n",
       "      <td>45.000000</td>\n",
       "    </tr>\n",
       "    <tr>\n",
       "      <th>max</th>\n",
       "      <td>90.000000</td>\n",
       "      <td>1.490400e+06</td>\n",
       "      <td>16.000000</td>\n",
       "      <td>99999.000000</td>\n",
       "      <td>4356.000000</td>\n",
       "      <td>99.000000</td>\n",
       "    </tr>\n",
       "  </tbody>\n",
       "</table>\n",
       "</div>"
      ],
      "text/plain": [
       "                age        fnlwgt  educational-num  capital-gain  \\\n",
       "count  48842.000000  4.884200e+04     48842.000000  48842.000000   \n",
       "mean      38.643585  1.896641e+05        10.078089   1079.067626   \n",
       "std       13.710510  1.056040e+05         2.570973   7452.019058   \n",
       "min       17.000000  1.228500e+04         1.000000      0.000000   \n",
       "25%       28.000000  1.175505e+05         9.000000      0.000000   \n",
       "50%       37.000000  1.781445e+05        10.000000      0.000000   \n",
       "75%       48.000000  2.376420e+05        12.000000      0.000000   \n",
       "max       90.000000  1.490400e+06        16.000000  99999.000000   \n",
       "\n",
       "       capital-loss  hours-per-week  \n",
       "count  48842.000000    48842.000000  \n",
       "mean      87.502314       40.422382  \n",
       "std      403.004552       12.391444  \n",
       "min        0.000000        1.000000  \n",
       "25%        0.000000       40.000000  \n",
       "50%        0.000000       40.000000  \n",
       "75%        0.000000       45.000000  \n",
       "max     4356.000000       99.000000  "
      ]
     },
     "execution_count": 5,
     "metadata": {},
     "output_type": "execute_result"
    }
   ],
   "source": [
    "# information about the dataset\n",
    "base.info()\n",
    "base.describe()"
   ]
  },
  {
   "cell_type": "code",
   "execution_count": 6,
   "id": "f5dcc3c1",
   "metadata": {},
   "outputs": [
    {
     "name": "stdout",
     "output_type": "stream",
     "text": [
      "['age', 'workclass', 'educational-num', 'marital-status', 'occupation', 'relationship', 'race', 'gender', 'capital-gain', 'capital-loss', 'hours-per-week', 'native-country', 'income']\n"
     ]
    }
   ],
   "source": [
    "# Dropping unnecessary columns\n",
    "base.drop(['fnlwgt', 'education' ], axis=1, inplace=True)\n",
    "\n",
    "# Renaming columns\n",
    "cols = base.columns.tolist()\n",
    "print(cols)"
   ]
  },
  {
   "cell_type": "code",
   "execution_count": 7,
   "id": "6a4bf507",
   "metadata": {},
   "outputs": [
    {
     "name": "stdout",
     "output_type": "stream",
     "text": [
      "age                0\n",
      "workclass          0\n",
      "educational-num    0\n",
      "marital-status     0\n",
      "occupation         0\n",
      "relationship       0\n",
      "race               0\n",
      "gender             0\n",
      "capital-gain       0\n",
      "capital-loss       0\n",
      "hours-per-week     0\n",
      "native-country     0\n",
      "income             0\n",
      "dtype: int64\n"
     ]
    }
   ],
   "source": [
    "# checking missng values\n",
    "print(base.isnull().sum())"
   ]
  },
  {
   "cell_type": "code",
   "execution_count": 8,
   "id": "26c549fb",
   "metadata": {},
   "outputs": [
    {
     "name": "stdout",
     "output_type": "stream",
     "text": [
      "Numerical columns: ['age', 'educational-num', 'capital-gain', 'capital-loss', 'hours-per-week']\n",
      "Categorical columns: ['workclass', 'marital-status', 'occupation', 'relationship', 'race', 'gender', 'native-country', 'income']\n"
     ]
    }
   ],
   "source": [
    "# separating categorical and numerical columns\n",
    "num_cols = base.select_dtypes(include=['int64', 'float64']).columns.tolist()\n",
    "cat_cols = base.select_dtypes(include=['object']).columns.tolist()\n",
    "# cat_cols.remove('income') # removing target variable from categorical columns\n",
    "print(\"Numerical columns:\", num_cols)\n",
    "print(\"Categorical columns:\", cat_cols)"
   ]
  },
  {
   "cell_type": "code",
   "execution_count": 9,
   "id": "b1c84306",
   "metadata": {},
   "outputs": [
    {
     "name": "stdout",
     "output_type": "stream",
     "text": [
      "Binary columns: ['gender', 'income']\n",
      "Non-binary columns: ['workclass', 'marital-status', 'occupation', 'relationship', 'race', 'native-country']\n"
     ]
    }
   ],
   "source": [
    "# further separating categorical columns into binary and non-binary\n",
    "binary_cols = []\n",
    "non_binary_cols = []\n",
    "for col in cat_cols:\n",
    "     if base[col].nunique() == 2:\n",
    "          binary_cols.append(col)\n",
    "     else:\n",
    "          non_binary_cols.append(col)\n",
    "print(\"Binary columns:\", binary_cols)\n",
    "print(\"Non-binary columns:\", non_binary_cols)"
   ]
  },
  {
   "cell_type": "code",
   "execution_count": 10,
   "id": "22ce0091",
   "metadata": {},
   "outputs": [],
   "source": [
    "# Removing Outliers\n",
    "from scipy import stats\n",
    "\n",
    "z_scores = stats.zscore(base[num_cols])\n",
    "abs_Z_score = abs(z_scores)\n",
    "filtered_entries = (abs_Z_score < 3).all(axis=1)\n",
    "\n",
    "base = base[filtered_entries]"
   ]
  },
  {
   "cell_type": "code",
   "execution_count": 11,
   "id": "8123dc5b",
   "metadata": {},
   "outputs": [],
   "source": [
    "#%pip install scikit-learn\n",
    "from sklearn.preprocessing import LabelEncoder \n",
    "\n",
    "le = LabelEncoder()\n",
    "for col in binary_cols:\n",
    "     base[col] = le.fit_transform(base[col])\n",
    "\n",
    "# one-hot encoding\n",
    "base = pd.get_dummies(base, columns=non_binary_cols, drop_first=True).astype(int)"
   ]
  },
  {
   "cell_type": "code",
   "execution_count": 12,
   "id": "7b02a8c6",
   "metadata": {},
   "outputs": [
    {
     "name": "stdout",
     "output_type": "stream",
     "text": [
      "   age  educational-num  gender  capital-gain  capital-loss  hours-per-week  \\\n",
      "0   25                7       1             0             0              40   \n",
      "1   38                9       1             0             0              50   \n",
      "\n",
      "   income  workclass_Federal-gov  workclass_Local-gov  workclass_Never-worked  \\\n",
      "0       0                      0                    0                       0   \n",
      "1       0                      0                    0                       0   \n",
      "\n",
      "   ...  native-country_Portugal  native-country_Puerto-Rico  \\\n",
      "0  ...                        0                           0   \n",
      "1  ...                        0                           0   \n",
      "\n",
      "   native-country_Scotland  native-country_South  native-country_Taiwan  \\\n",
      "0                        0                     0                      0   \n",
      "1                        0                     0                      0   \n",
      "\n",
      "   native-country_Thailand  native-country_Trinadad&Tobago  \\\n",
      "0                        0                               0   \n",
      "1                        0                               0   \n",
      "\n",
      "   native-country_United-States  native-country_Vietnam  \\\n",
      "0                             1                       0   \n",
      "1                             1                       0   \n",
      "\n",
      "   native-country_Yugoslavia  \n",
      "0                          0  \n",
      "1                          0  \n",
      "\n",
      "[2 rows x 84 columns]\n",
      "New shape: (45186, 84)\n"
     ]
    }
   ],
   "source": [
    "print(base.head(2))\n",
    "print(\"New shape:\", base.shape)"
   ]
  },
  {
   "cell_type": "code",
   "execution_count": 13,
   "id": "1522a6d3",
   "metadata": {},
   "outputs": [
    {
     "data": {
      "image/png": "[encoded data removed]",
      "text/plain": [
       "<Figure size 640x480 with 1 Axes>"
      ]
     },
     "metadata": {},
     "output_type": "display_data"
    },
    {
     "name": "stdout",
     "output_type": "stream",
     "text": [
      "income\n",
      "0    35170\n",
      "1    10016\n",
      "Name: count, dtype: int64\n"
     ]
    }
   ],
   "source": [
    "# Check class imbalance\n",
    "sns.countplot(x='income', data=base)\n",
    "plt.title(\"Target Class Distribution\")\n",
    "plt.show()\n",
    "print(base['income'].value_counts())"
   ]
  },
  {
   "cell_type": "code",
   "execution_count": 14,
   "id": "ec8f03b7",
   "metadata": {},
   "outputs": [],
   "source": [
    "# Separate features and target\n",
    "X = base.drop(columns=['income'])\n",
    "y = base['income']"
   ]
  },
  {
   "cell_type": "code",
   "execution_count": 15,
   "id": "d12675ac",
   "metadata": {},
   "outputs": [
    {
     "name": "stdout",
     "output_type": "stream",
     "text": [
      "Before SMOTE: {0: 35170, 1: 10016}\n",
      "After SMOTE: {0: 35170, 1: 35170}\n"
     ]
    }
   ],
   "source": [
    "from imblearn.over_sampling import SMOTE\n",
    "\n",
    "sm = SMOTE(random_state=42)\n",
    "X_resampled, y_resampled = sm.fit_resample(X, y)\n",
    "\n",
    "print(\"Before SMOTE:\", y.value_counts().to_dict())\n",
    "print(\"After SMOTE:\", y_resampled.value_counts().to_dict())\n"
   ]
  },
  {
   "cell_type": "code",
   "execution_count": 16,
   "id": "078bf8ff",
   "metadata": {},
   "outputs": [
    {
     "data": {
      "image/png": "[encoded data removed]",
      "text/plain": [
       "<Figure size 640x480 with 1 Axes>"
      ]
     },
     "metadata": {},
     "output_type": "display_data"
    },
    {
     "data": {
      "image/png": "[encoded data removed]",
      "text/plain": [
       "<Figure size 640x480 with 1 Axes>"
      ]
     },
     "metadata": {},
     "output_type": "display_data"
    },
    {
     "data": {
      "image/png": "[encoded data removed]",
      "text/plain": [
       "<Figure size 640x480 with 1 Axes>"
      ]
     },
     "metadata": {},
     "output_type": "display_data"
    },
    {
     "data": {
      "image/png": "[encoded data removed]",
      "text/plain": [
       "<Figure size 640x480 with 1 Axes>"
      ]
     },
     "metadata": {},
     "output_type": "display_data"
    },
    {
     "data": {
      "image/png": "[encoded data removed]",
      "text/plain": [
       "<Figure size 640x480 with 1 Axes>"
      ]
     },
     "metadata": {},
     "output_type": "display_data"
    }
   ],
   "source": [
    "# Visualize the distribution of numerical cols\n",
    "for col in num_cols:\n",
    "    sns.histplot(base[col], kde=True)\n",
    "    plt.title(f'Distribution of {col}')\n",
    "    plt.show()"
   ]
  },
  {
   "cell_type": "code",
   "execution_count": 17,
   "id": "45f9a90d",
   "metadata": {},
   "outputs": [
    {
     "name": "stdout",
     "output_type": "stream",
     "text": [
      "['age', 'hours-per-week'] \n",
      "\n",
      " ['educational-num', 'capital-gain', 'capital-loss']\n"
     ]
    }
   ],
   "source": [
    "# Scaling / normalization based on plots SC for bell curves & Min-Max for others\n",
    "skewed_cols = ['age', 'hours-per-week']\n",
    "normal_cols = [col for col in num_cols if col not in skewed_cols]\n",
    "\n",
    "print(skewed_cols, \"\\n\\n\", normal_cols)"
   ]
  },
  {
   "cell_type": "code",
   "execution_count": 18,
   "id": "f8c52dfa",
   "metadata": {},
   "outputs": [],
   "source": [
    "from sklearn.preprocessing import StandardScaler, MinMaxScaler\n",
    "\n",
    "sc = StandardScaler()\n",
    "mms = MinMaxScaler()\n",
    "\n",
    "X_resampled[normal_cols] = sc.fit_transform(X_resampled[normal_cols])\n",
    "X_resampled[skewed_cols] = mms.fit_transform(X_resampled[skewed_cols])\n"
   ]
  },
  {
   "cell_type": "code",
   "execution_count": 19,
   "id": "0b2de80a",
   "metadata": {},
   "outputs": [],
   "source": [
    "# Save processed dataset to CSV\n",
    "\n",
    "df_final = pd.concat([X_resampled, y_resampled], axis=1)\n",
    "df_final.to_csv('../../datasets/processed_adult.csv', index=False)"
   ]
  },
  {
   "cell_type": "code",
   "execution_count": 20,
   "id": "ff2e65ec",
   "metadata": {},
   "outputs": [],
   "source": [
    "# Feature selection using Random Forest importance\n",
    "from sklearn.ensemble import RandomForestClassifier\n",
    "rf = RandomForestClassifier(n_estimators=100, random_state=42)\n",
    "rf.fit(X_resampled, y_resampled)\n",
    "\n",
    "importances = rf.feature_importances_\n",
    "feat_importance_df = pd.DataFrame({'feature': X_resampled.columns, 'importance': importances})\n",
    "feat_importance_df = feat_importance_df.sort_values(by='importance', ascending=False)"
   ]
  },
  {
   "cell_type": "code",
   "execution_count": 21,
   "id": "7a10b8ad",
   "metadata": {},
   "outputs": [
    {
     "name": "stdout",
     "output_type": "stream",
     "text": [
      "Top features: ['age', 'educational-num', 'marital-status_Married-civ-spouse', 'hours-per-week', 'marital-status_Never-married', 'capital-gain', 'relationship_Not-in-family', 'relationship_Unmarried', 'relationship_Own-child', 'occupation_Other-service', 'gender', 'occupation_Craft-repair', 'workclass_Self-emp-not-inc', 'workclass_Private', 'occupation_Machine-op-inspct', 'occupation_Adm-clerical', 'occupation_Farming-fishing', 'occupation_Handlers-cleaners', 'occupation_Transport-moving', 'occupation_Exec-managerial']\n"
     ]
    }
   ],
   "source": [
    "# Select top 20 features\n",
    "top_features = feat_importance_df.head(20)['feature'].tolist()\n",
    "print(\"Top features:\", top_features)\n"
   ]
  },
  {
   "cell_type": "code",
   "execution_count": 22,
   "id": "b2ab15b3",
   "metadata": {},
   "outputs": [],
   "source": [
    "# Dataset with selected features\n",
    "X_selected = X_resampled[top_features]"
   ]
  },
  {
   "cell_type": "code",
   "execution_count": 23,
   "id": "3e8762ac",
   "metadata": {},
   "outputs": [
    {
     "name": "stdout",
     "output_type": "stream",
     "text": [
      "KMeans Silhouette Score (full): 0.22742692227744724\n",
      "DBSCAN Silhouette Score (downsampled): 0.5649607594608371\n",
      "KMeans Clusters: 2\n",
      "DBSCAN Clusters: 2\n"
     ]
    }
   ],
   "source": [
    "# Un-Supervised Learning\n",
    "from sklearn.cluster import KMeans, DBSCAN\n",
    "from sklearn.decomposition import PCA\n",
    "from sklearn.metrics import silhouette_score\n",
    "\n",
    "# Downsampling for DBSCAN (safe size: ~5K) because the kernel was crashing against the full dataset. limitations\n",
    "X_downsampled = X_selected.sample(n=5000, random_state=42)\n",
    "\n",
    "# KMeans on full data\n",
    "kmeans = KMeans(n_clusters=2, random_state=42)\n",
    "kmeans_labels = kmeans.fit_predict(X_selected)\n",
    "kmeans_silhouette = silhouette_score(X_selected, kmeans_labels)\n",
    "\n",
    "# DBSCAN on downsampled + Principle Component Analysis\n",
    "pca = PCA(n_components=5)\n",
    "X_pca = pca.fit_transform(X_downsampled)\n",
    "\n",
    "try:\n",
    "    dbscan = DBSCAN(eps=1.0, min_samples=5)\n",
    "    dbscan_labels = dbscan.fit_predict(X_pca)\n",
    "    \n",
    "    if len(set(dbscan_labels)) > 1:\n",
    "        dbscan_s= silhouette_score(X_pca, dbscan_labels)\n",
    "    else:\n",
    "        dbscan_s = \"Not Applicable\"\n",
    "\n",
    "except Exception as e:\n",
    "    dbscan_s = f\"Error: {e}\"\n",
    "    dbscan_labels = []\n",
    "\n",
    "# Results\n",
    "print(\"KMeans Silhouette Score (full):\", kmeans_silhouette)\n",
    "print(\"DBSCAN Silhouette Score (downsampled):\", dbscan_s)\n",
    "print(\"KMeans Clusters:\", len(set(kmeans_labels)))\n",
    "if isinstance(dbscan_labels, np.ndarray) and dbscan_labels.size > 0:\n",
    "    print(\"DBSCAN Clusters:\", len(set(dbscan_labels)))\n",
    "else:\n",
    "    print(\"DBSCAN Clusters: Not computed\")"
   ]
  },
  {
   "cell_type": "code",
   "execution_count": 24,
   "id": "064b97ab",
   "metadata": {},
   "outputs": [],
   "source": [
    "# Importing Supervised Learning Classifiers\n",
    "from sklearn.linear_model import LogisticRegression\n",
    "from sklearn.ensemble import RandomForestClassifier\n",
    "from sklearn.svm import SVC\n",
    "from sklearn.ensemble import GradientBoostingClassifier\n",
    "from sklearn.neighbors import KNeighborsClassifier \n",
    "from xgboost import XGBClassifier\n",
    "\n",
    "# 5 Supervised Learning Classifiers \n",
    "models = {\n",
    "    \"Logistic Regression\": LogisticRegression(max_iter=100),\n",
    "    \"Random Forest\": RandomForestClassifier(n_estimators=10),\n",
    "    \"SVM\": SVC(max_iter=500),\n",
    "    \"K-Nearest Neighbors\": KNeighborsClassifier(),\n",
    "    \"Gradient Boosting\": GradientBoostingClassifier(n_estimators=10),\n",
    "    \"xgboost\": XGBClassifier(n_estimators=10)\n",
    "}"
   ]
  },
  {
   "cell_type": "code",
   "execution_count": 25,
   "id": "9daebe15",
   "metadata": {},
   "outputs": [
    {
     "data": {
      "text/html": [
       "<div>\n",
       "<style scoped>\n",
       "    .dataframe tbody tr th:only-of-type {\n",
       "        vertical-align: middle;\n",
       "    }\n",
       "\n",
       "    .dataframe tbody tr th {\n",
       "        vertical-align: top;\n",
       "    }\n",
       "\n",
       "    .dataframe thead th {\n",
       "        text-align: right;\n",
       "    }\n",
       "</style>\n",
       "<table border=\"1\" class=\"dataframe\">\n",
       "  <thead>\n",
       "    <tr style=\"text-align: right;\">\n",
       "      <th></th>\n",
       "      <th>age</th>\n",
       "      <th>educational-num</th>\n",
       "      <th>gender</th>\n",
       "      <th>capital-gain</th>\n",
       "      <th>capital-loss</th>\n",
       "      <th>hours-per-week</th>\n",
       "      <th>workclass_Federal-gov</th>\n",
       "      <th>workclass_Local-gov</th>\n",
       "      <th>workclass_Never-worked</th>\n",
       "      <th>workclass_Private</th>\n",
       "      <th>...</th>\n",
       "      <th>native-country_Puerto-Rico</th>\n",
       "      <th>native-country_Scotland</th>\n",
       "      <th>native-country_South</th>\n",
       "      <th>native-country_Taiwan</th>\n",
       "      <th>native-country_Thailand</th>\n",
       "      <th>native-country_Trinadad&amp;Tobago</th>\n",
       "      <th>native-country_United-States</th>\n",
       "      <th>native-country_Vietnam</th>\n",
       "      <th>native-country_Yugoslavia</th>\n",
       "      <th>income</th>\n",
       "    </tr>\n",
       "  </thead>\n",
       "  <tbody>\n",
       "    <tr>\n",
       "      <th>0</th>\n",
       "      <td>0.129032</td>\n",
       "      <td>-1.433166</td>\n",
       "      <td>1</td>\n",
       "      <td>-0.327072</td>\n",
       "      <td>-0.028197</td>\n",
       "      <td>0.493151</td>\n",
       "      <td>0</td>\n",
       "      <td>0</td>\n",
       "      <td>0</td>\n",
       "      <td>1</td>\n",
       "      <td>...</td>\n",
       "      <td>0</td>\n",
       "      <td>0</td>\n",
       "      <td>0</td>\n",
       "      <td>0</td>\n",
       "      <td>0</td>\n",
       "      <td>0</td>\n",
       "      <td>1</td>\n",
       "      <td>0</td>\n",
       "      <td>0</td>\n",
       "      <td>0</td>\n",
       "    </tr>\n",
       "    <tr>\n",
       "      <th>1</th>\n",
       "      <td>0.338710</td>\n",
       "      <td>-0.617022</td>\n",
       "      <td>1</td>\n",
       "      <td>-0.327072</td>\n",
       "      <td>-0.028197</td>\n",
       "      <td>0.630137</td>\n",
       "      <td>0</td>\n",
       "      <td>0</td>\n",
       "      <td>0</td>\n",
       "      <td>1</td>\n",
       "      <td>...</td>\n",
       "      <td>0</td>\n",
       "      <td>0</td>\n",
       "      <td>0</td>\n",
       "      <td>0</td>\n",
       "      <td>0</td>\n",
       "      <td>0</td>\n",
       "      <td>1</td>\n",
       "      <td>0</td>\n",
       "      <td>0</td>\n",
       "      <td>0</td>\n",
       "    </tr>\n",
       "    <tr>\n",
       "      <th>2</th>\n",
       "      <td>0.177419</td>\n",
       "      <td>0.607194</td>\n",
       "      <td>1</td>\n",
       "      <td>-0.327072</td>\n",
       "      <td>-0.028197</td>\n",
       "      <td>0.493151</td>\n",
       "      <td>0</td>\n",
       "      <td>1</td>\n",
       "      <td>0</td>\n",
       "      <td>0</td>\n",
       "      <td>...</td>\n",
       "      <td>0</td>\n",
       "      <td>0</td>\n",
       "      <td>0</td>\n",
       "      <td>0</td>\n",
       "      <td>0</td>\n",
       "      <td>0</td>\n",
       "      <td>1</td>\n",
       "      <td>0</td>\n",
       "      <td>0</td>\n",
       "      <td>1</td>\n",
       "    </tr>\n",
       "  </tbody>\n",
       "</table>\n",
       "<p>3 rows × 84 columns</p>\n",
       "</div>"
      ],
      "text/plain": [
       "        age  educational-num  gender  capital-gain  capital-loss  \\\n",
       "0  0.129032        -1.433166       1     -0.327072     -0.028197   \n",
       "1  0.338710        -0.617022       1     -0.327072     -0.028197   \n",
       "2  0.177419         0.607194       1     -0.327072     -0.028197   \n",
       "\n",
       "   hours-per-week  workclass_Federal-gov  workclass_Local-gov  \\\n",
       "0        0.493151                      0                    0   \n",
       "1        0.630137                      0                    0   \n",
       "2        0.493151                      0                    1   \n",
       "\n",
       "   workclass_Never-worked  workclass_Private  ...  native-country_Puerto-Rico  \\\n",
       "0                       0                  1  ...                           0   \n",
       "1                       0                  1  ...                           0   \n",
       "2                       0                  0  ...                           0   \n",
       "\n",
       "   native-country_Scotland  native-country_South  native-country_Taiwan  \\\n",
       "0                        0                     0                      0   \n",
       "1                        0                     0                      0   \n",
       "2                        0                     0                      0   \n",
       "\n",
       "   native-country_Thailand  native-country_Trinadad&Tobago  \\\n",
       "0                        0                               0   \n",
       "1                        0                               0   \n",
       "2                        0                               0   \n",
       "\n",
       "   native-country_United-States  native-country_Vietnam  \\\n",
       "0                             1                       0   \n",
       "1                             1                       0   \n",
       "2                             1                       0   \n",
       "\n",
       "   native-country_Yugoslavia  income  \n",
       "0                          0       0  \n",
       "1                          0       0  \n",
       "2                          0       1  \n",
       "\n",
       "[3 rows x 84 columns]"
      ]
     },
     "execution_count": 25,
     "metadata": {},
     "output_type": "execute_result"
    }
   ],
   "source": [
    "df_final.head(3)"
   ]
  },
  {
   "cell_type": "code",
   "execution_count": 27,
   "id": "1055cc2a",
   "metadata": {},
   "outputs": [
    {
     "name": "stdout",
     "output_type": "stream",
     "text": [
      "\n",
      " Results Using Original Data\n",
      "\n",
      " Model: Logistic Regression\n",
      "Accuracy: 0.8624301014121885\n",
      "Precision: 0.8631263450155879\n",
      "Recall: 0.8624301014121885\n",
      "F1 Score: 0.8623439641431823\n",
      "Classification Report:\n",
      "               precision    recall  f1-score   support\n",
      "\n",
      "           0       0.88      0.84      0.86     10493\n",
      "           1       0.85      0.89      0.87     10609\n",
      "\n",
      "    accuracy                           0.86     21102\n",
      "   macro avg       0.86      0.86      0.86     21102\n",
      "weighted avg       0.86      0.86      0.86     21102\n",
      "\n",
      "Confusion Matrix:\n",
      " [[8805 1688]\n",
      " [1215 9394]]\n",
      "\n",
      " Model: Random Forest\n",
      "Accuracy: 0.8853189271159132\n",
      "Precision: 0.8853748394187182\n",
      "Recall: 0.8853189271159132\n",
      "F1 Score: 0.8853100994497968\n",
      "Classification Report:\n",
      "               precision    recall  f1-score   support\n",
      "\n",
      "           0       0.89      0.88      0.88     10493\n",
      "           1       0.88      0.89      0.89     10609\n",
      "\n",
      "    accuracy                           0.89     21102\n",
      "   macro avg       0.89      0.89      0.89     21102\n",
      "weighted avg       0.89      0.89      0.89     21102\n",
      "\n",
      "Confusion Matrix:\n",
      " [[9215 1278]\n",
      " [1142 9467]]\n"
     ]
    },
    {
     "name": "stderr",
     "output_type": "stream",
     "text": [
      "/workspaces/ml_techniques/.venv/lib/python3.12/site-packages/sklearn/svm/_base.py:305: ConvergenceWarning: Solver terminated early (max_iter=500).  Consider pre-processing your data with StandardScaler or MinMaxScaler.\n",
      "  warnings.warn(\n"
     ]
    },
    {
     "name": "stdout",
     "output_type": "stream",
     "text": [
      "\n",
      " Model: SVM\n",
      "Accuracy: 0.5402805421287081\n",
      "Precision: 0.5521573642023734\n",
      "Recall: 0.5402805421287081\n",
      "F1 Score: 0.5087710116916894\n",
      "Classification Report:\n",
      "               precision    recall  f1-score   support\n",
      "\n",
      "           0       0.58      0.29      0.38     10493\n",
      "           1       0.53      0.79      0.63     10609\n",
      "\n",
      "    accuracy                           0.54     21102\n",
      "   macro avg       0.55      0.54      0.51     21102\n",
      "weighted avg       0.55      0.54      0.51     21102\n",
      "\n",
      "Confusion Matrix:\n",
      " [[3001 7492]\n",
      " [2209 8400]]\n",
      "\n",
      " Model: K-Nearest Neighbors\n",
      "Accuracy: 0.8720974315230784\n",
      "Precision: 0.8733094081955131\n",
      "Recall: 0.8720974315230784\n",
      "F1 Score: 0.8719696925475786\n",
      "Classification Report:\n",
      "               precision    recall  f1-score   support\n",
      "\n",
      "           0       0.89      0.84      0.87     10493\n",
      "           1       0.85      0.90      0.88     10609\n",
      "\n",
      "    accuracy                           0.87     21102\n",
      "   macro avg       0.87      0.87      0.87     21102\n",
      "weighted avg       0.87      0.87      0.87     21102\n",
      "\n",
      "Confusion Matrix:\n",
      " [[8838 1655]\n",
      " [1044 9565]]\n",
      "\n",
      " Model: Gradient Boosting\n",
      "Accuracy: 0.8029570656809781\n",
      "Precision: 0.8078356919259463\n",
      "Recall: 0.8029570656809781\n",
      "F1 Score: 0.8020820905200655\n",
      "Classification Report:\n",
      "               precision    recall  f1-score   support\n",
      "\n",
      "           0       0.85      0.74      0.79     10493\n",
      "           1       0.77      0.87      0.82     10609\n",
      "\n",
      "    accuracy                           0.80     21102\n",
      "   macro avg       0.81      0.80      0.80     21102\n",
      "weighted avg       0.81      0.80      0.80     21102\n",
      "\n",
      "Confusion Matrix:\n",
      " [[7741 2752]\n",
      " [1406 9203]]\n",
      "\n",
      " Model: xgboost\n",
      "Accuracy: 0.8598237133920955\n",
      "Precision: 0.8638026370042167\n",
      "Recall: 0.8598237133920955\n",
      "F1 Score: 0.8593909050174682\n",
      "Classification Report:\n",
      "               precision    recall  f1-score   support\n",
      "\n",
      "           0       0.90      0.81      0.85     10493\n",
      "           1       0.83      0.91      0.87     10609\n",
      "\n",
      "    accuracy                           0.86     21102\n",
      "   macro avg       0.86      0.86      0.86     21102\n",
      "weighted avg       0.86      0.86      0.86     21102\n",
      "\n",
      "Confusion Matrix:\n",
      " [[8457 2036]\n",
      " [ 922 9687]]\n"
     ]
    }
   ],
   "source": [
    "# Import Classification libs\n",
    "from sklearn.metrics import accuracy_score, precision_score, recall_score, f1_score, classification_report, confusion_matrix\n",
    "from sklearn.model_selection import train_test_split\n",
    "\n",
    "\n",
    "def evaluate_models(X_train, y_train, X_test, y_test, source):\n",
    "    print(f\"\\n Results Using {source} Data\")\n",
    "    for name, model in models.items():\n",
    "        model.fit(X_train, y_train)\n",
    "        y_pred = model.predict(X_test)\n",
    "\n",
    "        print(f\"\\n Model: {name}\")\n",
    "        print(\"Accuracy:\", accuracy_score(y_test, y_pred))\n",
    "        print(\"Precision:\", precision_score(y_test, y_pred, average='weighted'))\n",
    "        print(\"Recall:\", recall_score(y_test, y_pred, average='weighted'))\n",
    "        print(\"F1 Score:\", f1_score(y_test, y_pred, average='weighted'))\n",
    "        print(\"Classification Report:\\n\", classification_report(y_test, y_pred))\n",
    "        print(\"Confusion Matrix:\\n\", confusion_matrix(y_test, y_pred))\n",
    "\n",
    "\n",
    "X_train, X_test, y_train, y_test = train_test_split(X_resampled, y_resampled, test_size=0.3, random_state=42)\n",
    "\n",
    "evaluate_models(X_train, y_train, X_test, y_test, source=\"Original\")\n",
    "\n",
    "# Train & Evaluate on SMOTE-balanced data\n",
    "# evaluate_models(X_smote, y_smote, X_test, y_test, source=\"SMOTE\")"
   ]
  },
  {
   "cell_type": "code",
   "execution_count": null,
   "id": "9d609160",
   "metadata": {},
   "outputs": [],
   "source": []
  }
 ],
 "metadata": {
  "kernelspec": {
   "display_name": ".env",
   "language": "python",
   "name": "python3"
  },
  "language_info": {
   "codemirror_mode": {
    "name": "ipython",
    "version": 3
   },
   "file_extension": ".py",
   "mimetype": "text/x-python",
   "name": "python",
   "nbconvert_exporter": "python",
   "pygments_lexer": "ipython3",
   "version": "3.12.1"
  }
 },
 "nbformat": 4,
 "nbformat_minor": 5
}
